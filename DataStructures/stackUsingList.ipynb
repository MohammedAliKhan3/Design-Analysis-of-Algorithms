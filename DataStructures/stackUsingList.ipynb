{
 "cells": [
  {
   "cell_type": "code",
   "execution_count": 1,
   "id": "dda554f4",
   "metadata": {},
   "outputs": [],
   "source": [
    "def push(array, element, top):\n",
    "    if top == len(array) - 1:\n",
    "        return '\\nStack Overflow!\\n', top\n",
    "    else:\n",
    "        top += 1\n",
    "        array[top] = element\n",
    "        return None, top\n"
   ]
  },
  {
   "cell_type": "code",
   "execution_count": 2,
   "id": "143dad31",
   "metadata": {},
   "outputs": [],
   "source": [
    "def pop(array, top):\n",
    "    if top == -1:\n",
    "        return '\\nNo elements to pop!\\n', top\n",
    "    else:\n",
    "        popped = array[top]\n",
    "        top -= 1\n",
    "        print('\\nElement popped =', popped)\n",
    "        return None, top\n"
   ]
  },
  {
   "cell_type": "code",
   "execution_count": null,
   "id": "f6b1bfe6",
   "metadata": {},
   "outputs": [],
   "source": [
    "def display(array):\n",
    "        print(array)\n",
    "    "
   ]
  },
  {
   "cell_type": "code",
   "execution_count": null,
   "id": "cd35ce60",
   "metadata": {},
   "outputs": [
    {
     "name": "stdout",
     "output_type": "stream",
     "text": [
      "\n",
      "1. Push Element in stack\n",
      "2. Pop element from the stack\n",
      "3. Display\n",
      "4. Exit\n",
      "\n",
      "1. Push Element in stack\n",
      "2. Pop element from the stack\n",
      "3. Display\n",
      "4. Exit\n",
      "\n",
      "1. Push Element in stack\n",
      "2. Pop element from the stack\n",
      "3. Display\n",
      "4. Exit\n",
      "\n",
      "1. Push Element in stack\n",
      "2. Pop element from the stack\n",
      "3. Display\n",
      "4. Exit\n",
      "\n",
      "1. Push Element in stack\n",
      "2. Pop element from the stack\n",
      "3. Display\n",
      "4. Exit\n",
      "\n",
      "1. Push Element in stack\n",
      "2. Pop element from the stack\n",
      "3. Display\n",
      "4. Exit\n"
     ]
    },
    {
     "data": {
      "text/plain": [
       "10"
      ]
     },
     "metadata": {},
     "output_type": "display_data"
    },
    {
     "data": {
      "text/plain": [
       "[2, 4, 5, 7, 25, 0, 0, 0, 0, 0]"
      ]
     },
     "metadata": {},
     "output_type": "display_data"
    },
    {
     "name": "stdout",
     "output_type": "stream",
     "text": [
      "\n",
      "1. Push Element in stack\n",
      "2. Pop element from the stack\n",
      "3. Display\n",
      "4. Exit\n",
      "\n",
      "Termination of program!\n"
     ]
    }
   ],
   "source": [
    "stack_length = int(input('\\nHello!, Insert the length of your stack! \\n'))\n",
    "\n",
    "array = [0] * stack_length\n",
    "top = -1\n",
    "\n",
    "while True:\n",
    "    print('\\n1. Push Element in stack')\n",
    "    print('\\n2. Pop element from the stack')\n",
    "    print('\\n3. Display')\n",
    "    print('\\n4. Exit')\n",
    "    \n",
    "    choice = int(input('\\nInsert your choice (1-3): \\n'))\n",
    "    \n",
    "    if choice == 1:\n",
    "        element = int(input('Enter the element to push: '))\n",
    "        msg, top = push(array, element, top)\n",
    "        if msg:\n",
    "            print(msg)\n",
    "\n",
    "    elif choice == 2:\n",
    "        msg, top = pop(array, top)\n",
    "        if msg:\n",
    "            print(msg)\n",
    "\n",
    "    elif choice == 3:\n",
    "        display(stack_length,array)\n",
    "\n",
    "    elif choice == 4:\n",
    "        print('\\nTermination of program!')\n",
    "        break\n",
    "\n",
    "    else:\n",
    "        print('Enter a valid input from (1-3)')"
   ]
  },
  {
   "cell_type": "code",
   "execution_count": null,
   "id": "00b5bb40",
   "metadata": {},
   "outputs": [],
   "source": []
  }
 ],
 "metadata": {
  "kernelspec": {
   "display_name": "base",
   "language": "python",
   "name": "python3"
  },
  "language_info": {
   "codemirror_mode": {
    "name": "ipython",
    "version": 3
   },
   "file_extension": ".py",
   "mimetype": "text/x-python",
   "name": "python",
   "nbconvert_exporter": "python",
   "pygments_lexer": "ipython3",
   "version": "3.12.7"
  }
 },
 "nbformat": 4,
 "nbformat_minor": 5
}
