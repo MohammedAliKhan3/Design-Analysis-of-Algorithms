{
 "cells": [
  {
   "cell_type": "code",
   "execution_count": 1,
   "id": "f4d253f8",
   "metadata": {},
   "outputs": [],
   "source": [
    "class Stack:\n",
    "    def __init__(self, size):\n",
    "        \"\"\"Initialize stack with given size\"\"\"\n",
    "        self.array = [0] * size\n",
    "        self.top = -1\n",
    "        self.size = size\n",
    "    \n",
    "    def push(self, element):\n",
    "        \"\"\"Add element to top of stack\"\"\"\n",
    "        if self.is_full():\n",
    "            return \"Stack Overflow!\"\n",
    "        self.top += 1\n",
    "        self.array[self.top] = element\n",
    "        return None\n",
    "    \n",
    "    def pop(self):\n",
    "        \"\"\"Remove and return top element\"\"\"\n",
    "        if self.is_empty():\n",
    "            return \"Stack Underflow!\"\n",
    "        popped = self.array[self.top]\n",
    "        self.top -= 1\n",
    "        return popped\n",
    "    \n",
    "    def is_empty(self):\n",
    "        \"\"\"Check if stack is empty\"\"\"\n",
    "        return self.top == -1\n",
    "    \n",
    "    def is_full(self):\n",
    "        \"\"\"Check if stack is full\"\"\"\n",
    "        return self.top == self.size - 1\n",
    "    \n",
    "    def peek(self):\n",
    "        \"\"\"View top element without removing\"\"\"\n",
    "        if self.is_empty():\n",
    "            return \"Stack is empty!\"\n",
    "        return self.array[self.top]"
   ]
  },
  {
   "cell_type": "code",
   "execution_count": 2,
   "id": "b4eab742",
   "metadata": {},
   "outputs": [
    {
     "name": "stdout",
     "output_type": "stream",
     "text": [
      "Please enter valid numbers!\n"
     ]
    }
   ],
   "source": [
    "def main():\n",
    "    try:\n",
    "        stack_size = int(input(\"Enter stack size: \"))\n",
    "        stack = Stack(stack_size)\n",
    "        \n",
    "        while True:\n",
    "            print(\"\\n1. Push\")\n",
    "            print(\"2. Pop\")\n",
    "            print(\"3. Peek\")\n",
    "            print(\"4. Exit\")\n",
    "            \n",
    "            choice = input(\"Enter choice (1-4): \")\n",
    "            \n",
    "            if choice == '1':\n",
    "                element = int(input(\"Enter element to push: \"))\n",
    "                result = stack.push(element)\n",
    "                if result:\n",
    "                    print(result)\n",
    "            \n",
    "            elif choice == '2':\n",
    "                result = stack.pop()\n",
    "                print(f\"Popped: {result}\")\n",
    "            \n",
    "            elif choice == '3':\n",
    "                print(f\"Top element: {stack.peek()}\")\n",
    "            \n",
    "            elif choice == '4':\n",
    "                print(\"Exiting program\")\n",
    "                break\n",
    "            \n",
    "            else:\n",
    "                print(\"Invalid choice!\")\n",
    "    \n",
    "    except ValueError:\n",
    "        print(\"Please enter valid numbers!\")\n",
    "\n",
    "if __name__ == \"__main__\":\n",
    "    main()"
   ]
  },
  {
   "cell_type": "code",
   "execution_count": null,
   "id": "c38460ba",
   "metadata": {},
   "outputs": [],
   "source": []
  }
 ],
 "metadata": {
  "kernelspec": {
   "display_name": "base",
   "language": "python",
   "name": "python3"
  },
  "language_info": {
   "codemirror_mode": {
    "name": "ipython",
    "version": 3
   },
   "file_extension": ".py",
   "mimetype": "text/x-python",
   "name": "python",
   "nbconvert_exporter": "python",
   "pygments_lexer": "ipython3",
   "version": "3.12.7"
  }
 },
 "nbformat": 4,
 "nbformat_minor": 5
}
